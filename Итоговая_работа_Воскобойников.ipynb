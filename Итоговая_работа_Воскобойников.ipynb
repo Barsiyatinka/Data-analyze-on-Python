{
  "nbformat": 4,
  "nbformat_minor": 0,
  "metadata": {
    "colab": {
      "provenance": []
    },
    "kernelspec": {
      "name": "python3",
      "display_name": "Python 3"
    },
    "language_info": {
      "name": "python"
    }
  },
  "cells": [
    {
      "cell_type": "markdown",
      "source": [
        "Задание\n",
        "Дан файл HR.csv с данными по опросу уровня удовлетворенности сотрудниками работой.\n",
        "Файл доступен тут -\n",
        "https://drive.google.com/file/d/1INgo03nal-vwFJe7Lec5vOUtOwfJdUr1/view?usp=sharing\n",
        "Признаки:\n",
        "1. satisfaction_level - Уровень удовлетворенности работой\n",
        "2. Last_evaluation - Время с момента последней оценки в годах\n",
        "3. number_projects - Количество проектов, выполненных за время работы\n",
        "4. average_monthly_hours - Среднее количество часов на рабочем месте в месяц\n",
        "5. time_spend_company - Стаж работы в компании в годах\n",
        "6. work_accident - Происходили ли несчастные случаи на рабочем месте с сотрудником\n",
        "7. left - уволился ли сотрудник\n",
        "8. promotion_last_5years - повышался ли сотрудник за последние пять лет\n",
        "9. department - отдел в котором работает сотрудник\n",
        "10. salary - относительный уровень зарплаты\n",
        "Требуется выполнить следующее задание:\n",
        "# Задание Баллы\n",
        "1 Загрузите файл HR.csv в pandas dataframe 5\n",
        "2 Рассчитайте основные статистики для переменных\n",
        "(среднее,медиана,мода,мин/макс,сред.отклонение).\n",
        "10\n",
        "3 Рассчитайте и визуализировать корреляционную матрицу для\n",
        "количественных переменных.\n",
        "Определите две самые скоррелированные и две наименее\n",
        "скоррелированные переменные.\n",
        "10\n",
        "4 Рассчитайте сколько сотрудников работает в каждом\n",
        "департаменте.\n",
        "5\n",
        "5 Показать распределение сотрудников по зарплатам. 5\n",
        "6 Показать распределение сотрудников по зарплатам в каждом\n",
        "департаменте по отдельности\n",
        "5\n",
        "7 Проверить гипотезу, что сотрудники с высоким окладом\n",
        "проводят на работе больше времени, чем сотрудники с низким\n",
        "окладом\n",
        "10\n",
        "8 Рассчитать следующие показатели среди уволившихся и не\n",
        "уволившихся сотрудников (по отдельности):\n",
        "● Доля сотрудников с повышением за последние 5 лет\n",
        "● Средняя степень удовлетворенности\n",
        "● Среднее количество проектов\n",
        "9 Разделить данные на тестовую и обучающую выборки\n",
        "Построить модель LDA, предсказывающую уволился ли\n",
        "сотрудник на основе имеющихся факторов (кроме department и\n",
        "salary)\n",
        "Оценить качество модели на тестовой выборки\n",
        "20\n",
        "10 Загрузить jupyter notebook с решение на github и прислать ссылку 5\n",
        "Итого - максимум 85 баллов"
      ],
      "metadata": {
        "id": "ugq5odHWHNUN"
      }
    },
    {
      "cell_type": "markdown",
      "source": [
        "**Загружаем все необходимые бибилиотеки**"
      ],
      "metadata": {
        "id": "7Tu8dctYKhKz"
      }
    },
    {
      "cell_type": "code",
      "execution_count": 88,
      "metadata": {
        "id": "6GPRWPp-D-8c"
      },
      "outputs": [],
      "source": [
        "from pathlib import Path\n",
        "import seaborn as sns\n",
        "import matplotlib.pyplot as plt\n",
        "import warnings\n",
        "from scipy import stats\n",
        "import numpy as np\n",
        "import pandas as pd\n",
        "import statsmodels.api as sm\n",
        "from scipy.stats import ttest_ind, f_oneway, shapiro, levene"
      ]
    },
    {
      "cell_type": "markdown",
      "source": [
        "** №1 Загружаем даныне в датафрейм.**"
      ],
      "metadata": {
        "id": "gsGL_W3wKvqT"
      }
    },
    {
      "cell_type": "code",
      "source": [
        "hr = pd.read_csv('/content/drive/MyDrive/Colab Notebooks/Итоговое задание/HR.csv', on_bad_lines='skip')  # Откроем датасет если он лежит на гугл диске\n",
        "#hr = pd.read_csv('hr.csv') # Откроем датасет если файл с HR.csv лежит рядом с файлом Jupiter notebook\n",
        "hr.head()"
      ],
      "metadata": {
        "colab": {
          "base_uri": "https://localhost:8080/",
          "height": 206
        },
        "id": "bPVmQ-yQKfGk",
        "outputId": "d4e17a85-5236-4211-cb02-11bdbfd25ac2"
      },
      "execution_count": 90,
      "outputs": [
        {
          "output_type": "execute_result",
          "data": {
            "text/plain": [
              "   satisfaction_level  last_evaluation  number_project  average_montly_hours  \\\n",
              "0                0.38             0.53               2                   157   \n",
              "1                0.80             0.86               5                   262   \n",
              "2                0.11             0.88               7                   272   \n",
              "3                0.72             0.87               5                   223   \n",
              "4                0.37             0.52               2                   159   \n",
              "\n",
              "   time_spend_company  Work_accident  left  promotion_last_5years department  \\\n",
              "0                   3              0     1                      0      sales   \n",
              "1                   6              0     1                      0      sales   \n",
              "2                   4              0     1                      0      sales   \n",
              "3                   5              0     1                      0      sales   \n",
              "4                   3              0     1                      0      sales   \n",
              "\n",
              "   salary  \n",
              "0     low  \n",
              "1  medium  \n",
              "2  medium  \n",
              "3     low  \n",
              "4     low  "
            ],
            "text/html": [
              "\n",
              "  <div id=\"df-cf19744f-ca4b-458b-9f75-17add60110a3\" class=\"colab-df-container\">\n",
              "    <div>\n",
              "<style scoped>\n",
              "    .dataframe tbody tr th:only-of-type {\n",
              "        vertical-align: middle;\n",
              "    }\n",
              "\n",
              "    .dataframe tbody tr th {\n",
              "        vertical-align: top;\n",
              "    }\n",
              "\n",
              "    .dataframe thead th {\n",
              "        text-align: right;\n",
              "    }\n",
              "</style>\n",
              "<table border=\"1\" class=\"dataframe\">\n",
              "  <thead>\n",
              "    <tr style=\"text-align: right;\">\n",
              "      <th></th>\n",
              "      <th>satisfaction_level</th>\n",
              "      <th>last_evaluation</th>\n",
              "      <th>number_project</th>\n",
              "      <th>average_montly_hours</th>\n",
              "      <th>time_spend_company</th>\n",
              "      <th>Work_accident</th>\n",
              "      <th>left</th>\n",
              "      <th>promotion_last_5years</th>\n",
              "      <th>department</th>\n",
              "      <th>salary</th>\n",
              "    </tr>\n",
              "  </thead>\n",
              "  <tbody>\n",
              "    <tr>\n",
              "      <th>0</th>\n",
              "      <td>0.38</td>\n",
              "      <td>0.53</td>\n",
              "      <td>2</td>\n",
              "      <td>157</td>\n",
              "      <td>3</td>\n",
              "      <td>0</td>\n",
              "      <td>1</td>\n",
              "      <td>0</td>\n",
              "      <td>sales</td>\n",
              "      <td>low</td>\n",
              "    </tr>\n",
              "    <tr>\n",
              "      <th>1</th>\n",
              "      <td>0.80</td>\n",
              "      <td>0.86</td>\n",
              "      <td>5</td>\n",
              "      <td>262</td>\n",
              "      <td>6</td>\n",
              "      <td>0</td>\n",
              "      <td>1</td>\n",
              "      <td>0</td>\n",
              "      <td>sales</td>\n",
              "      <td>medium</td>\n",
              "    </tr>\n",
              "    <tr>\n",
              "      <th>2</th>\n",
              "      <td>0.11</td>\n",
              "      <td>0.88</td>\n",
              "      <td>7</td>\n",
              "      <td>272</td>\n",
              "      <td>4</td>\n",
              "      <td>0</td>\n",
              "      <td>1</td>\n",
              "      <td>0</td>\n",
              "      <td>sales</td>\n",
              "      <td>medium</td>\n",
              "    </tr>\n",
              "    <tr>\n",
              "      <th>3</th>\n",
              "      <td>0.72</td>\n",
              "      <td>0.87</td>\n",
              "      <td>5</td>\n",
              "      <td>223</td>\n",
              "      <td>5</td>\n",
              "      <td>0</td>\n",
              "      <td>1</td>\n",
              "      <td>0</td>\n",
              "      <td>sales</td>\n",
              "      <td>low</td>\n",
              "    </tr>\n",
              "    <tr>\n",
              "      <th>4</th>\n",
              "      <td>0.37</td>\n",
              "      <td>0.52</td>\n",
              "      <td>2</td>\n",
              "      <td>159</td>\n",
              "      <td>3</td>\n",
              "      <td>0</td>\n",
              "      <td>1</td>\n",
              "      <td>0</td>\n",
              "      <td>sales</td>\n",
              "      <td>low</td>\n",
              "    </tr>\n",
              "  </tbody>\n",
              "</table>\n",
              "</div>\n",
              "    <div class=\"colab-df-buttons\">\n",
              "\n",
              "  <div class=\"colab-df-container\">\n",
              "    <button class=\"colab-df-convert\" onclick=\"convertToInteractive('df-cf19744f-ca4b-458b-9f75-17add60110a3')\"\n",
              "            title=\"Convert this dataframe to an interactive table.\"\n",
              "            style=\"display:none;\">\n",
              "\n",
              "  <svg xmlns=\"http://www.w3.org/2000/svg\" height=\"24px\" viewBox=\"0 -960 960 960\">\n",
              "    <path d=\"M120-120v-720h720v720H120Zm60-500h600v-160H180v160Zm220 220h160v-160H400v160Zm0 220h160v-160H400v160ZM180-400h160v-160H180v160Zm440 0h160v-160H620v160ZM180-180h160v-160H180v160Zm440 0h160v-160H620v160Z\"/>\n",
              "  </svg>\n",
              "    </button>\n",
              "\n",
              "  <style>\n",
              "    .colab-df-container {\n",
              "      display:flex;\n",
              "      gap: 12px;\n",
              "    }\n",
              "\n",
              "    .colab-df-convert {\n",
              "      background-color: #E8F0FE;\n",
              "      border: none;\n",
              "      border-radius: 50%;\n",
              "      cursor: pointer;\n",
              "      display: none;\n",
              "      fill: #1967D2;\n",
              "      height: 32px;\n",
              "      padding: 0 0 0 0;\n",
              "      width: 32px;\n",
              "    }\n",
              "\n",
              "    .colab-df-convert:hover {\n",
              "      background-color: #E2EBFA;\n",
              "      box-shadow: 0px 1px 2px rgba(60, 64, 67, 0.3), 0px 1px 3px 1px rgba(60, 64, 67, 0.15);\n",
              "      fill: #174EA6;\n",
              "    }\n",
              "\n",
              "    .colab-df-buttons div {\n",
              "      margin-bottom: 4px;\n",
              "    }\n",
              "\n",
              "    [theme=dark] .colab-df-convert {\n",
              "      background-color: #3B4455;\n",
              "      fill: #D2E3FC;\n",
              "    }\n",
              "\n",
              "    [theme=dark] .colab-df-convert:hover {\n",
              "      background-color: #434B5C;\n",
              "      box-shadow: 0px 1px 3px 1px rgba(0, 0, 0, 0.15);\n",
              "      filter: drop-shadow(0px 1px 2px rgba(0, 0, 0, 0.3));\n",
              "      fill: #FFFFFF;\n",
              "    }\n",
              "  </style>\n",
              "\n",
              "    <script>\n",
              "      const buttonEl =\n",
              "        document.querySelector('#df-cf19744f-ca4b-458b-9f75-17add60110a3 button.colab-df-convert');\n",
              "      buttonEl.style.display =\n",
              "        google.colab.kernel.accessAllowed ? 'block' : 'none';\n",
              "\n",
              "      async function convertToInteractive(key) {\n",
              "        const element = document.querySelector('#df-cf19744f-ca4b-458b-9f75-17add60110a3');\n",
              "        const dataTable =\n",
              "          await google.colab.kernel.invokeFunction('convertToInteractive',\n",
              "                                                    [key], {});\n",
              "        if (!dataTable) return;\n",
              "\n",
              "        const docLinkHtml = 'Like what you see? Visit the ' +\n",
              "          '<a target=\"_blank\" href=https://colab.research.google.com/notebooks/data_table.ipynb>data table notebook</a>'\n",
              "          + ' to learn more about interactive tables.';\n",
              "        element.innerHTML = '';\n",
              "        dataTable['output_type'] = 'display_data';\n",
              "        await google.colab.output.renderOutput(dataTable, element);\n",
              "        const docLink = document.createElement('div');\n",
              "        docLink.innerHTML = docLinkHtml;\n",
              "        element.appendChild(docLink);\n",
              "      }\n",
              "    </script>\n",
              "  </div>\n",
              "\n",
              "\n",
              "<div id=\"df-ea5d9375-214b-4f76-952b-f536c36cec84\">\n",
              "  <button class=\"colab-df-quickchart\" onclick=\"quickchart('df-ea5d9375-214b-4f76-952b-f536c36cec84')\"\n",
              "            title=\"Suggest charts\"\n",
              "            style=\"display:none;\">\n",
              "\n",
              "<svg xmlns=\"http://www.w3.org/2000/svg\" height=\"24px\"viewBox=\"0 0 24 24\"\n",
              "     width=\"24px\">\n",
              "    <g>\n",
              "        <path d=\"M19 3H5c-1.1 0-2 .9-2 2v14c0 1.1.9 2 2 2h14c1.1 0 2-.9 2-2V5c0-1.1-.9-2-2-2zM9 17H7v-7h2v7zm4 0h-2V7h2v10zm4 0h-2v-4h2v4z\"/>\n",
              "    </g>\n",
              "</svg>\n",
              "  </button>\n",
              "\n",
              "<style>\n",
              "  .colab-df-quickchart {\n",
              "      --bg-color: #E8F0FE;\n",
              "      --fill-color: #1967D2;\n",
              "      --hover-bg-color: #E2EBFA;\n",
              "      --hover-fill-color: #174EA6;\n",
              "      --disabled-fill-color: #AAA;\n",
              "      --disabled-bg-color: #DDD;\n",
              "  }\n",
              "\n",
              "  [theme=dark] .colab-df-quickchart {\n",
              "      --bg-color: #3B4455;\n",
              "      --fill-color: #D2E3FC;\n",
              "      --hover-bg-color: #434B5C;\n",
              "      --hover-fill-color: #FFFFFF;\n",
              "      --disabled-bg-color: #3B4455;\n",
              "      --disabled-fill-color: #666;\n",
              "  }\n",
              "\n",
              "  .colab-df-quickchart {\n",
              "    background-color: var(--bg-color);\n",
              "    border: none;\n",
              "    border-radius: 50%;\n",
              "    cursor: pointer;\n",
              "    display: none;\n",
              "    fill: var(--fill-color);\n",
              "    height: 32px;\n",
              "    padding: 0;\n",
              "    width: 32px;\n",
              "  }\n",
              "\n",
              "  .colab-df-quickchart:hover {\n",
              "    background-color: var(--hover-bg-color);\n",
              "    box-shadow: 0 1px 2px rgba(60, 64, 67, 0.3), 0 1px 3px 1px rgba(60, 64, 67, 0.15);\n",
              "    fill: var(--button-hover-fill-color);\n",
              "  }\n",
              "\n",
              "  .colab-df-quickchart-complete:disabled,\n",
              "  .colab-df-quickchart-complete:disabled:hover {\n",
              "    background-color: var(--disabled-bg-color);\n",
              "    fill: var(--disabled-fill-color);\n",
              "    box-shadow: none;\n",
              "  }\n",
              "\n",
              "  .colab-df-spinner {\n",
              "    border: 2px solid var(--fill-color);\n",
              "    border-color: transparent;\n",
              "    border-bottom-color: var(--fill-color);\n",
              "    animation:\n",
              "      spin 1s steps(1) infinite;\n",
              "  }\n",
              "\n",
              "  @keyframes spin {\n",
              "    0% {\n",
              "      border-color: transparent;\n",
              "      border-bottom-color: var(--fill-color);\n",
              "      border-left-color: var(--fill-color);\n",
              "    }\n",
              "    20% {\n",
              "      border-color: transparent;\n",
              "      border-left-color: var(--fill-color);\n",
              "      border-top-color: var(--fill-color);\n",
              "    }\n",
              "    30% {\n",
              "      border-color: transparent;\n",
              "      border-left-color: var(--fill-color);\n",
              "      border-top-color: var(--fill-color);\n",
              "      border-right-color: var(--fill-color);\n",
              "    }\n",
              "    40% {\n",
              "      border-color: transparent;\n",
              "      border-right-color: var(--fill-color);\n",
              "      border-top-color: var(--fill-color);\n",
              "    }\n",
              "    60% {\n",
              "      border-color: transparent;\n",
              "      border-right-color: var(--fill-color);\n",
              "    }\n",
              "    80% {\n",
              "      border-color: transparent;\n",
              "      border-right-color: var(--fill-color);\n",
              "      border-bottom-color: var(--fill-color);\n",
              "    }\n",
              "    90% {\n",
              "      border-color: transparent;\n",
              "      border-bottom-color: var(--fill-color);\n",
              "    }\n",
              "  }\n",
              "</style>\n",
              "\n",
              "  <script>\n",
              "    async function quickchart(key) {\n",
              "      const quickchartButtonEl =\n",
              "        document.querySelector('#' + key + ' button');\n",
              "      quickchartButtonEl.disabled = true;  // To prevent multiple clicks.\n",
              "      quickchartButtonEl.classList.add('colab-df-spinner');\n",
              "      try {\n",
              "        const charts = await google.colab.kernel.invokeFunction(\n",
              "            'suggestCharts', [key], {});\n",
              "      } catch (error) {\n",
              "        console.error('Error during call to suggestCharts:', error);\n",
              "      }\n",
              "      quickchartButtonEl.classList.remove('colab-df-spinner');\n",
              "      quickchartButtonEl.classList.add('colab-df-quickchart-complete');\n",
              "    }\n",
              "    (() => {\n",
              "      let quickchartButtonEl =\n",
              "        document.querySelector('#df-ea5d9375-214b-4f76-952b-f536c36cec84 button');\n",
              "      quickchartButtonEl.style.display =\n",
              "        google.colab.kernel.accessAllowed ? 'block' : 'none';\n",
              "    })();\n",
              "  </script>\n",
              "</div>\n",
              "    </div>\n",
              "  </div>\n"
            ],
            "application/vnd.google.colaboratory.intrinsic+json": {
              "type": "dataframe",
              "variable_name": "hr",
              "summary": "{\n  \"name\": \"hr\",\n  \"rows\": 14999,\n  \"fields\": [\n    {\n      \"column\": \"satisfaction_level\",\n      \"properties\": {\n        \"dtype\": \"number\",\n        \"std\": 0.2486306510611418,\n        \"min\": 0.09,\n        \"max\": 1.0,\n        \"num_unique_values\": 92,\n        \"samples\": [\n          0.83,\n          0.13,\n          0.55\n        ],\n        \"semantic_type\": \"\",\n        \"description\": \"\"\n      }\n    },\n    {\n      \"column\": \"last_evaluation\",\n      \"properties\": {\n        \"dtype\": \"number\",\n        \"std\": 0.17116911062327592,\n        \"min\": 0.36,\n        \"max\": 1.0,\n        \"num_unique_values\": 65,\n        \"samples\": [\n          0.66,\n          0.44,\n          0.53\n        ],\n        \"semantic_type\": \"\",\n        \"description\": \"\"\n      }\n    },\n    {\n      \"column\": \"number_project\",\n      \"properties\": {\n        \"dtype\": \"number\",\n        \"std\": 1,\n        \"min\": 2,\n        \"max\": 7,\n        \"num_unique_values\": 6,\n        \"samples\": [\n          2,\n          5,\n          3\n        ],\n        \"semantic_type\": \"\",\n        \"description\": \"\"\n      }\n    },\n    {\n      \"column\": \"average_montly_hours\",\n      \"properties\": {\n        \"dtype\": \"number\",\n        \"std\": 49,\n        \"min\": 96,\n        \"max\": 310,\n        \"num_unique_values\": 215,\n        \"samples\": [\n          118,\n          112,\n          222\n        ],\n        \"semantic_type\": \"\",\n        \"description\": \"\"\n      }\n    },\n    {\n      \"column\": \"time_spend_company\",\n      \"properties\": {\n        \"dtype\": \"number\",\n        \"std\": 1,\n        \"min\": 2,\n        \"max\": 10,\n        \"num_unique_values\": 8,\n        \"samples\": [\n          6,\n          8,\n          3\n        ],\n        \"semantic_type\": \"\",\n        \"description\": \"\"\n      }\n    },\n    {\n      \"column\": \"Work_accident\",\n      \"properties\": {\n        \"dtype\": \"number\",\n        \"std\": 0,\n        \"min\": 0,\n        \"max\": 1,\n        \"num_unique_values\": 2,\n        \"samples\": [\n          1,\n          0\n        ],\n        \"semantic_type\": \"\",\n        \"description\": \"\"\n      }\n    },\n    {\n      \"column\": \"left\",\n      \"properties\": {\n        \"dtype\": \"number\",\n        \"std\": 0,\n        \"min\": 0,\n        \"max\": 1,\n        \"num_unique_values\": 2,\n        \"samples\": [\n          0,\n          1\n        ],\n        \"semantic_type\": \"\",\n        \"description\": \"\"\n      }\n    },\n    {\n      \"column\": \"promotion_last_5years\",\n      \"properties\": {\n        \"dtype\": \"number\",\n        \"std\": 0,\n        \"min\": 0,\n        \"max\": 1,\n        \"num_unique_values\": 2,\n        \"samples\": [\n          1,\n          0\n        ],\n        \"semantic_type\": \"\",\n        \"description\": \"\"\n      }\n    },\n    {\n      \"column\": \"department\",\n      \"properties\": {\n        \"dtype\": \"category\",\n        \"num_unique_values\": 10,\n        \"samples\": [\n          \"marketing\",\n          \"accounting\"\n        ],\n        \"semantic_type\": \"\",\n        \"description\": \"\"\n      }\n    },\n    {\n      \"column\": \"salary\",\n      \"properties\": {\n        \"dtype\": \"category\",\n        \"num_unique_values\": 3,\n        \"samples\": [\n          \"low\",\n          \"medium\"\n        ],\n        \"semantic_type\": \"\",\n        \"description\": \"\"\n      }\n    }\n  ]\n}"
            }
          },
          "metadata": {},
          "execution_count": 90
        }
      ]
    },
    {
      "cell_type": "markdown",
      "source": [
        "**№2 Рассчитайте основные статистики для переменных (среднее,медиана,мода,мин/макс,сред.отклонение)**\n",
        "\n",
        "\n",
        "\n"
      ],
      "metadata": {
        "id": "jU-m2u4ELEw7"
      }
    },
    {
      "cell_type": "code",
      "source": [
        "#Получаем базовые статистики по данным\n",
        "print(f\"Выводим информацию о данных\\n\")\n",
        "print(hr.info())  # выводим информацию о данных\n",
        "print(f\"Выводим базовую статистику по данным\\n\")\n",
        "print(hr.describe())  # выводим базовую статистику по данным\n",
        "print(f\"Выводим инофрмацию по пропускам\\n\")\n",
        "print(hr.isnull().sum())  # проверяем нет ли пропусковв данных"
      ],
      "metadata": {
        "colab": {
          "base_uri": "https://localhost:8080/"
        },
        "id": "kjGwFZiaNLkl",
        "outputId": "255bca23-7ddb-4f18-921d-db55957d8e0d"
      },
      "execution_count": 92,
      "outputs": [
        {
          "output_type": "stream",
          "name": "stdout",
          "text": [
            "Выводим информацию о данных\n",
            "\n",
            "<class 'pandas.core.frame.DataFrame'>\n",
            "RangeIndex: 14999 entries, 0 to 14998\n",
            "Data columns (total 10 columns):\n",
            " #   Column                 Non-Null Count  Dtype  \n",
            "---  ------                 --------------  -----  \n",
            " 0   satisfaction_level     14999 non-null  float64\n",
            " 1   last_evaluation        14999 non-null  float64\n",
            " 2   number_project         14999 non-null  int64  \n",
            " 3   average_montly_hours   14999 non-null  int64  \n",
            " 4   time_spend_company     14999 non-null  int64  \n",
            " 5   Work_accident          14999 non-null  int64  \n",
            " 6   left                   14999 non-null  int64  \n",
            " 7   promotion_last_5years  14999 non-null  int64  \n",
            " 8   department             14999 non-null  object \n",
            " 9   salary                 14999 non-null  object \n",
            "dtypes: float64(2), int64(6), object(2)\n",
            "memory usage: 1.1+ MB\n",
            "None\n",
            "Выводим базовую статистику по данным\n",
            "\n",
            "       satisfaction_level  last_evaluation  number_project  \\\n",
            "count        14999.000000     14999.000000    14999.000000   \n",
            "mean             0.612834         0.716102        3.803054   \n",
            "std              0.248631         0.171169        1.232592   \n",
            "min              0.090000         0.360000        2.000000   \n",
            "25%              0.440000         0.560000        3.000000   \n",
            "50%              0.640000         0.720000        4.000000   \n",
            "75%              0.820000         0.870000        5.000000   \n",
            "max              1.000000         1.000000        7.000000   \n",
            "\n",
            "       average_montly_hours  time_spend_company  Work_accident          left  \\\n",
            "count          14999.000000        14999.000000   14999.000000  14999.000000   \n",
            "mean             201.050337            3.498233       0.144610      0.238083   \n",
            "std               49.943099            1.460136       0.351719      0.425924   \n",
            "min               96.000000            2.000000       0.000000      0.000000   \n",
            "25%              156.000000            3.000000       0.000000      0.000000   \n",
            "50%              200.000000            3.000000       0.000000      0.000000   \n",
            "75%              245.000000            4.000000       0.000000      0.000000   \n",
            "max              310.000000           10.000000       1.000000      1.000000   \n",
            "\n",
            "       promotion_last_5years  \n",
            "count           14999.000000  \n",
            "mean                0.021268  \n",
            "std                 0.144281  \n",
            "min                 0.000000  \n",
            "25%                 0.000000  \n",
            "50%                 0.000000  \n",
            "75%                 0.000000  \n",
            "max                 1.000000  \n",
            "Выводим инофрмацию по пропускам\n",
            "\n",
            "satisfaction_level       0\n",
            "last_evaluation          0\n",
            "number_project           0\n",
            "average_montly_hours     0\n",
            "time_spend_company       0\n",
            "Work_accident            0\n",
            "left                     0\n",
            "promotion_last_5years    0\n",
            "department               0\n",
            "salary                   0\n",
            "dtype: int64\n"
          ]
        }
      ]
    },
    {
      "cell_type": "markdown",
      "source": [
        "# **Проводим расчёт всех базовых статистик**"
      ],
      "metadata": {
        "id": "xq1bR9fdXrZV"
      }
    },
    {
      "cell_type": "code",
      "source": [
        "# Выбираем числовые столбцы для анализа\n",
        "numeric_cols = ['satisfaction_level', 'last_evaluation', 'number_project',\n",
        "                'average_montly_hours', 'time_spend_company','Work_accident', 'left', 'promotion_last_5years' ]"
      ],
      "metadata": {
        "id": "CoMheJPnNn8F"
      },
      "execution_count": 93,
      "outputs": []
    },
    {
      "cell_type": "code",
      "source": [
        "# Создаем функцию для расчета основных статистик по столбцам\n",
        "def calculate_stats(df, column):\n",
        "\n",
        "    return {\n",
        "        'mean': df[column].mean(),\n",
        "        'median': df[column].median(),\n",
        "        'mode': df[column].mode()[0],  # Берем первое значение моды\n",
        "        'min': df[column].min(),\n",
        "        'max': df[column].max(),\n",
        "        'std': df[column].std()\n",
        "    }"
      ],
      "metadata": {
        "id": "KPDkfwBBO8EU"
      },
      "execution_count": 94,
      "outputs": []
    },
    {
      "cell_type": "code",
      "source": [
        "# Применяем функцию ко всем числовым столбцам\n",
        "stats_dict = {}\n",
        "for col in numeric_cols:\n",
        "    stats_dict[col] = calculate_stats(hr, col)"
      ],
      "metadata": {
        "id": "B32P59dPP22H"
      },
      "execution_count": 95,
      "outputs": []
    },
    {
      "cell_type": "code",
      "source": [
        "# Выводим результаты\n",
        "for col, stats in stats_dict.items():\n",
        "    print(f\"Статистика для столбца {col}:\")\n",
        "    for stat, value in stats.items():\n",
        "        print(f\"{stat}: {value}\")"
      ],
      "metadata": {
        "colab": {
          "base_uri": "https://localhost:8080/"
        },
        "id": "I7jwSs8zP7VR",
        "outputId": "d1e0cf44-e827-4f06-d2f5-dd8c17671fc9"
      },
      "execution_count": 96,
      "outputs": [
        {
          "output_type": "stream",
          "name": "stdout",
          "text": [
            "Статистика для столбца satisfaction_level:\n",
            "mean: 0.6128335222348156\n",
            "median: 0.64\n",
            "mode: 0.1\n",
            "min: 0.09\n",
            "max: 1.0\n",
            "std: 0.2486306510611418\n",
            "Статистика для столбца last_evaluation:\n",
            "mean: 0.7161017401160078\n",
            "median: 0.72\n",
            "mode: 0.55\n",
            "min: 0.36\n",
            "max: 1.0\n",
            "std: 0.17116911062327592\n",
            "Статистика для столбца number_project:\n",
            "mean: 3.80305353690246\n",
            "median: 4.0\n",
            "mode: 4\n",
            "min: 2\n",
            "max: 7\n",
            "std: 1.2325923553183857\n",
            "Статистика для столбца average_montly_hours:\n",
            "mean: 201.0503366891126\n",
            "median: 200.0\n",
            "mode: 135\n",
            "min: 96\n",
            "max: 310\n",
            "std: 49.943099371284305\n",
            "Статистика для столбца time_spend_company:\n",
            "mean: 3.498233215547703\n",
            "median: 3.0\n",
            "mode: 3\n",
            "min: 2\n",
            "max: 10\n",
            "std: 1.4601362305354546\n",
            "Статистика для столбца Work_accident:\n",
            "mean: 0.1446096406427095\n",
            "median: 0.0\n",
            "mode: 0\n",
            "min: 0\n",
            "max: 1\n",
            "std: 0.3517185523801279\n",
            "Статистика для столбца left:\n",
            "mean: 0.2380825388359224\n",
            "median: 0.0\n",
            "mode: 0\n",
            "min: 0\n",
            "max: 1\n",
            "std: 0.425924099380363\n",
            "Статистика для столбца promotion_last_5years:\n",
            "mean: 0.021268084538969265\n",
            "median: 0.0\n",
            "mode: 0\n",
            "min: 0\n",
            "max: 1\n",
            "std: 0.1442814645785774\n"
          ]
        }
      ]
    },
    {
      "cell_type": "markdown",
      "source": [
        "**№ 3 Расчёт и визуализация корреляционной матрицы для колличественных переменных. Определение двух самых скоррелированны и двух наименне скоррелированных переменных**"
      ],
      "metadata": {
        "id": "EqhcCOUVYMkk"
      }
    },
    {
      "cell_type": "code",
      "source": [
        "numeric_data = hr[numeric_cols]"
      ],
      "metadata": {
        "id": "5oByjRTJZX5k"
      },
      "execution_count": 97,
      "outputs": []
    },
    {
      "cell_type": "code",
      "source": [
        "corr_matrix = numeric_data.corr() #Расчет корреляционной матрицы"
      ],
      "metadata": {
        "id": "QibOCRorZy4r"
      },
      "execution_count": 98,
      "outputs": []
    },
    {
      "cell_type": "code",
      "source": [
        "# Визуализируем данные (используем визуализацию в виде тепловой карты)\n",
        "plt.figure(figsize=(10,8))\n",
        "sns.heatmap(corr_matrix, annot=True, cmap='coolwarm')\n",
        "plt.title('Корреляционная матрица')\n",
        "plt.show()"
      ],
      "metadata": {
        "colab": {
          "base_uri": "https://localhost:8080/",
          "height": 843
        },
        "id": "erLmc_CsZ_OG",
        "outputId": "c68a9670-386a-4c1e-ae42-926324bb0c41"
      },
      "execution_count": 99,
      "outputs": [
        {
          "output_type": "display_data",
          "data": {
            "text/plain": [
              "<Figure size 1000x800 with 2 Axes>"
            ],
            "image/png": "[encoded data removed]"
          },
          "metadata": {}
        }
      ]
    },
    {
      "cell_type": "code",
      "source": [
        "# Находим индексы максимального и минимального значений (исключая диагональ)\n",
        "corr_matrix = corr_matrix.abs()  # Берем абсолютные значения для корреляции\n",
        "np.fill_diagonal(corr_matrix.values, np.nan)  # Заполняем диагональ NaN\n",
        "max_corr = corr_matrix.unstack().sort_values(ascending=False).head(2)\n",
        "min_corr = corr_matrix.unstack().sort_values().head(2)\n",
        "\n",
        "print(\"Две самые скоррелированные переменные:\")\n",
        "print(max_corr)\n",
        "\n",
        "print(\"\\nДве наименее скоррелированные переменные:\")\n",
        "print(min_corr)"
      ],
      "metadata": {
        "colab": {
          "base_uri": "https://localhost:8080/"
        },
        "id": "-XAG227qaVhM",
        "outputId": "0b261ecf-405a-4901-fc4c-d1ae2f941c6e"
      },
      "execution_count": 100,
      "outputs": [
        {
          "output_type": "stream",
          "name": "stdout",
          "text": [
            "Две самые скоррелированные переменные:\n",
            "average_montly_hours  number_project          0.417211\n",
            "number_project        average_montly_hours    0.417211\n",
            "dtype: float64\n",
            "\n",
            "Две наименее скоррелированные переменные:\n",
            "time_spend_company  Work_accident         0.00212\n",
            "Work_accident       time_spend_company    0.00212\n",
            "dtype: float64\n"
          ]
        }
      ]
    },
    {
      "cell_type": "markdown",
      "source": [
        "**№4 Рассчитайте сколько сотрудников работает в каждом департаменте**"
      ],
      "metadata": {
        "id": "jfCO5SS_aznd"
      }
    },
    {
      "cell_type": "code",
      "source": [
        "# Подсчет количества сотрудников в каждом департаменте\n",
        "department_counts = hr['department'].value_counts()\n",
        "\n",
        "print(department_counts)"
      ],
      "metadata": {
        "colab": {
          "base_uri": "https://localhost:8080/"
        },
        "id": "-UUh1x8ia5qU",
        "outputId": "16a36e41-422e-45e3-b8cc-f0759eb6fcca"
      },
      "execution_count": 101,
      "outputs": [
        {
          "output_type": "stream",
          "name": "stdout",
          "text": [
            "department\n",
            "sales          4140\n",
            "technical      2720\n",
            "support        2229\n",
            "IT             1227\n",
            "product_mng     902\n",
            "marketing       858\n",
            "RandD           787\n",
            "accounting      767\n",
            "hr              739\n",
            "management      630\n",
            "Name: count, dtype: int64\n"
          ]
        }
      ]
    },
    {
      "cell_type": "markdown",
      "source": [
        "**№5 Показать распределение сотрудников по зарплатам**"
      ],
      "metadata": {
        "id": "A2CEzeV3bk4Y"
      }
    },
    {
      "cell_type": "code",
      "source": [
        "# Гистограмма распределения зарплат\n",
        "sns.histplot(data=hr, x='salary', bins=30)\n",
        "plt.title('Распределение сотрудников по зарплатам')\n",
        "plt.xlabel('Зарплата')\n",
        "plt.ylabel('Количество сотрудников')\n",
        "plt.show()\n",
        "\n",
        "# Ящик с усами для более детального анализа\n",
        "sns.boxplot(x='salary', data=hr)\n",
        "plt.title('Распределение зарплат (ящик с усами)')\n",
        "plt.show()"
      ],
      "metadata": {
        "colab": {
          "base_uri": "https://localhost:8080/",
          "height": 927
        },
        "id": "LdOajHBcb1wM",
        "outputId": "a8f00fde-3223-4111-9cad-7b88b55da4f8"
      },
      "execution_count": 102,
      "outputs": [
        {
          "output_type": "display_data",
          "data": {
            "text/plain": [
              "<Figure size 640x480 with 1 Axes>"
            ],
            "image/png": "[encoded data removed]"
          },
          "metadata": {}
        },
        {
          "output_type": "display_data",
          "data": {
            "text/plain": [
              "<Figure size 640x480 with 1 Axes>"
            ],
            "image/png": "[encoded data removed]"
          },
          "metadata": {}
        }
      ]
    },
    {
      "cell_type": "markdown",
      "source": [
        "**№6 Показать распределение сотрудников по зарплатам в каждом департаменте по отдельности.**"
      ],
      "metadata": {
        "id": "ToRDgorSb9z-"
      }
    },
    {
      "cell_type": "code",
      "source": [
        "# Построим боксплоты для каждого департамента ( в таком виде не читаются подписи к графикам, поэтому увеличим сам график и повернем подси на 45 градусом)\n",
        "#sns.boxplot(x='department', y='salary', data=hr)\n",
        "#plt.title('Распределение зарплат по департаментам')\n",
        "#plt.xlabel('Департамент')\n",
        "#plt.ylabel('Зарплата')\n",
        "#plt.show()"
      ],
      "metadata": {
        "id": "vTf83ogecRbl"
      },
      "execution_count": 103,
      "outputs": []
    },
    {
      "cell_type": "code",
      "source": [
        "# Увеличим размер графика\n",
        "plt.figure(figsize=(12, 6))\n",
        "\n",
        "# Построим боксплоты с поворотом меток по оси X для лучшей читаемости\n",
        "sns.boxplot(x='department', y='salary', data=hr)\n",
        "plt.xticks(rotation=45)\n",
        "plt.title('Распределение зарплат по департаментам')\n",
        "plt.xlabel('Департамент')\n",
        "plt.ylabel('Зарплата')\n",
        "plt.show()"
      ],
      "metadata": {
        "colab": {
          "base_uri": "https://localhost:8080/",
          "height": 626
        },
        "id": "Q4hlyDhzcqo1",
        "outputId": "56388fe9-6c93-46e4-a10b-e5abd7e616f1"
      },
      "execution_count": 104,
      "outputs": [
        {
          "output_type": "display_data",
          "data": {
            "text/plain": [
              "<Figure size 1200x600 with 1 Axes>"
            ],
            "image/png": "[encoded data removed]"
          },
          "metadata": {}
        }
      ]
    },
    {
      "cell_type": "markdown",
      "source": [
        "**№7 Проверить гипотезу, что сотрудники с высоким окладом проводят на работе больше времени, чем сотрудники с низким окладом**"
      ],
      "metadata": {
        "id": "2p2dUGpDdAZ8"
      }
    },
    {
      "cell_type": "markdown",
      "source": [
        "Необходимо сравнить среднее количество часов на рабочем месте между группами сотрудников с разным уровнем зарплаты."
      ],
      "metadata": {
        "id": "wQHGjuUtDb6n"
      }
    },
    {
      "cell_type": "code",
      "source": [
        "# Разделение сотрудников на группы по уровню зарплаты. Группируем данные по уровню зарплаты и выводим среднее количество рабочих часов для каждой группы.\n",
        "salary_groups = hr.groupby('salary')['average_montly_hours'].mean().reset_index()\n",
        "print(salary_groups)"
      ],
      "metadata": {
        "colab": {
          "base_uri": "https://localhost:8080/"
        },
        "id": "0-9rWE0CBMdR",
        "outputId": "a76368b3-5fd7-4a6f-990f-dafc77d0af50"
      },
      "execution_count": 105,
      "outputs": [
        {
          "output_type": "stream",
          "name": "stdout",
          "text": [
            "   salary  average_montly_hours\n",
            "0    high            199.867421\n",
            "1     low            200.996583\n",
            "2  medium            201.338349\n"
          ]
        }
      ]
    },
    {
      "cell_type": "code",
      "source": [
        "# Визуалируем различия в среднем количестве рабочих часов\n",
        "plt.figure(figsize=(8,6))\n",
        "sns.barplot(x='salary', y='average_montly_hours', data=salary_groups, palette='viridis')\n",
        "plt.title('Среднее количество рабочих часов по уровню зарплаты')\n",
        "plt.xlabel('Уровень зарплаты')\n",
        "plt.ylabel('Среднее количество рабочих часов')\n",
        "plt.show()"
      ],
      "metadata": {
        "colab": {
          "base_uri": "https://localhost:8080/",
          "height": 651
        },
        "id": "8dcMZOJgCCbA",
        "outputId": "b7cc055a-971c-458b-895e-8116fa2cd3de"
      },
      "execution_count": 106,
      "outputs": [
        {
          "output_type": "stream",
          "name": "stderr",
          "text": [
            "<ipython-input-106-37052849d013>:3: FutureWarning: \n",
            "\n",
            "Passing `palette` without assigning `hue` is deprecated and will be removed in v0.14.0. Assign the `x` variable to `hue` and set `legend=False` for the same effect.\n",
            "\n",
            "  sns.barplot(x='salary', y='average_montly_hours', data=salary_groups, palette='viridis')\n"
          ]
        },
        {
          "output_type": "display_data",
          "data": {
            "text/plain": [
              "<Figure size 800x600 with 1 Axes>"
            ],
            "image/png": "[encoded data removed]"
          },
          "metadata": {}
        }
      ]
    },
    {
      "cell_type": "markdown",
      "source": [
        "Чтобы проверить, являются ли различия статистически значимыми, проводим однофакторный дисперсионный анализ (ANOVA)."
      ],
      "metadata": {
        "id": "yQHPzSVkC1Xt"
      }
    },
    {
      "cell_type": "markdown",
      "source": [
        "Вывод: Согласно визуальному распределению видно, что все сотрудники проводят на рабочем месте времени одинаково."
      ],
      "metadata": {
        "id": "CU-xEHmBGWw3"
      }
    },
    {
      "cell_type": "code",
      "source": [
        "from scipy import stats\n",
        "\n",
        "low_salary_hours = hr[hr['salary'] == 'low']['average_montly_hours']\n",
        "medium_salary_hours = hr[hr['salary'] == 'medium']['average_montly_hours']\n",
        "high_salary_hours = hr[hr['salary'] == 'high']['average_montly_hours']\n",
        "\n",
        "anova_result = stats.f_oneway(low_salary_hours, medium_salary_hours, high_salary_hours)\n",
        "print('ANOVA p-value:', anova_result.pvalue)"
      ],
      "metadata": {
        "colab": {
          "base_uri": "https://localhost:8080/"
        },
        "id": "ORMCwh3ACX-o",
        "outputId": "83e0f722-c1ae-444a-9736-12b31a8d9c2c"
      },
      "execution_count": 107,
      "outputs": [
        {
          "output_type": "stream",
          "name": "stdout",
          "text": [
            "ANOVA p-value: 0.6323271153144614\n"
          ]
        }
      ]
    },
    {
      "cell_type": "markdown",
      "source": [
        "**Вывод**: p-value 0.632 говорит о том, что различия в среднем количестве рабочих часов между группами с разным уровнем зарплаты не являются статистически значимыми.\n",
        "Таким образом, исходная гипотеза не подтверждается на основе этих данных. Среднее количество рабочих часов между сотрудниками с разным уровнем зарплаты,  не различается существенно."
      ],
      "metadata": {
        "id": "yidd7kFqGywb"
      }
    },
    {
      "cell_type": "markdown",
      "source": [
        "**№8 Рассчитать следующие показатели среди уволившихся и не уволившихся сотрудников (по отдельности):**\n",
        "\n",
        "**- Доля сотрудников с повышением за последние 5 лет**\n",
        "\n",
        "**- Средняя степень удовлетворенности**\n",
        "\n",
        "**- Среднее количество проектов**"
      ],
      "metadata": {
        "id": "AdKcjnekHDkO"
      }
    },
    {
      "cell_type": "code",
      "source": [
        "# Разделение данных на группы по признаку left (уволился или нет)\n",
        "\n",
        "left_employees = hr[hr['left'] == 1]\n",
        "stayed_employees = hr[hr['left'] == 0]"
      ],
      "metadata": {
        "id": "ZwGM5hXxObSL"
      },
      "execution_count": 108,
      "outputs": []
    },
    {
      "cell_type": "code",
      "source": [
        "# Вычислим доли сотрудников с повышением за последние 5 лет в каждой группе.\n",
        "# Доля сотрудников с повышением среди уволившихся\n",
        "promotion_left = left_employees['promotion_last_5years'].mean()\n",
        "\n",
        "# Доля сотрудников с повышением среди не уволившихся\n",
        "promotion_stayed = stayed_employees['promotion_last_5years'].mean()\n",
        "\n",
        "print(f\"Доля сотрудников с повышением среди уволившихся: {promotion_left:.2%}\")\n",
        "print(f\"Доля сотрудников с повышением среди не уволившихся: {promotion_stayed:.2%}\")"
      ],
      "metadata": {
        "colab": {
          "base_uri": "https://localhost:8080/"
        },
        "id": "xgdM5EYQOxtf",
        "outputId": "f0aa93fa-4e4d-47ae-c0a4-450312321839"
      },
      "execution_count": 109,
      "outputs": [
        {
          "output_type": "stream",
          "name": "stdout",
          "text": [
            "Доля сотрудников с повышением среди уволившихся: 0.53%\n",
            "Доля сотрудников с повышением среди не уволившихся: 2.63%\n"
          ]
        }
      ]
    },
    {
      "cell_type": "code",
      "source": [
        "# Расчитаем среднюю степень удовлетворённости сотрудников\n",
        "# Средняя степень удовлетворенности среди уволившихся\n",
        "satisfaction_left = left_employees['satisfaction_level'].mean()\n",
        "\n",
        "# Средняя степень удовлетворенности среди не уволившихся\n",
        "satisfaction_stayed = stayed_employees['satisfaction_level'].mean()\n",
        "\n",
        "print(f\"Средняя степень удовлетворенности среди уволившихся: {satisfaction_left:.2f}\")\n",
        "print(f\"Средняя степень удовлетворенности среди не уволившихся: {satisfaction_stayed:.2f}\")"
      ],
      "metadata": {
        "colab": {
          "base_uri": "https://localhost:8080/"
        },
        "id": "9iOredL1POww",
        "outputId": "1533bb0c-7dfa-4fe7-eb5e-fac81a10762c"
      },
      "execution_count": 110,
      "outputs": [
        {
          "output_type": "stream",
          "name": "stdout",
          "text": [
            "Средняя степень удовлетворенности среди уволившихся: 0.44\n",
            "Средняя степень удовлетворенности среди не уволившихся: 0.67\n"
          ]
        }
      ]
    },
    {
      "cell_type": "code",
      "source": [
        "# Расчитаем среднее количество выполненных проектов\n",
        "# Среднее количество проектов среди уволившихся\n",
        "projects_left = left_employees['number_project'].mean()\n",
        "\n",
        "# Среднее количество проектов среди не уволившихся\n",
        "projects_stayed = stayed_employees['number_project'].mean()\n",
        "\n",
        "print(f\"Среднее количество проектов среди уволившихся: {projects_left:.2f}\")\n",
        "print(f\"Среднее количество проектов среди не уволившихся: {projects_stayed:.2f}\")"
      ],
      "metadata": {
        "colab": {
          "base_uri": "https://localhost:8080/"
        },
        "id": "Mp-OsAQrPfIq",
        "outputId": "33d71c24-523a-4cf1-dac5-f011e39eb518"
      },
      "execution_count": 111,
      "outputs": [
        {
          "output_type": "stream",
          "name": "stdout",
          "text": [
            "Среднее количество проектов среди уволившихся: 3.86\n",
            "Среднее количество проектов среди не уволившихся: 3.79\n"
          ]
        }
      ]
    },
    {
      "cell_type": "markdown",
      "source": [
        "**9. Разделить данные на тестовую и обучающую выборки построить модель LDA, предсказывающую уволился ли сотрудник на основе имеющихся факторов (кроме department иsalary) Оценить качество модели на тестовой выборки.**\n"
      ],
      "metadata": {
        "id": "ZoZw-EveQKPG"
      }
    },
    {
      "cell_type": "code",
      "source": [
        "# добавим недостающие бибилиотеки\n",
        "from sklearn.model_selection import train_test_split\n",
        "from sklearn.discriminant_analysis import LinearDiscriminantAnalysis\n",
        "from sklearn.metrics import accuracy_score, confusion_matrix, classification_report"
      ],
      "metadata": {
        "id": "D5Nivyn1REVy"
      },
      "execution_count": 112,
      "outputs": []
    },
    {
      "cell_type": "code",
      "source": [
        "# Исключаем 'department' и 'salary', а также целевой столбец 'left'\n",
        "X = hr.drop(['department', 'salary', 'left'], axis=1)\n",
        "\n",
        "# Целевая переменная\n",
        "y = hr['left']"
      ],
      "metadata": {
        "id": "ll8epmTmRRWt"
      },
      "execution_count": 113,
      "outputs": []
    },
    {
      "cell_type": "code",
      "source": [
        "#Разделим данные на обучающую и тестовую выборки в пропорции 80% на 20%.\n",
        "X_train, X_test, y_train, y_test = train_test_split(X, y, test_size=0.2, random_state=42)"
      ],
      "metadata": {
        "id": "K65vFZyqRaTs"
      },
      "execution_count": 114,
      "outputs": []
    },
    {
      "cell_type": "code",
      "source": [
        "# Создаем модель LDA\n",
        "lda = LinearDiscriminantAnalysis()\n",
        "\n",
        "# Обучаем модель на тренировочных данных\n",
        "lda.fit(X_train, y_train)"
      ],
      "metadata": {
        "colab": {
          "base_uri": "https://localhost:8080/",
          "height": 80
        },
        "id": "GhSE2GXqRj6k",
        "outputId": "27009bb5-46bf-4249-8567-3c1cd54bc55e"
      },
      "execution_count": 115,
      "outputs": [
        {
          "output_type": "execute_result",
          "data": {
            "text/plain": [
              "LinearDiscriminantAnalysis()"
            ],
            "text/html": [
              "<style>#sk-container-id-2 {\n",
              "  /* Definition of color scheme common for light and dark mode */\n",
              "  --sklearn-color-text: black;\n",
              "  --sklearn-color-line: gray;\n",
              "  /* Definition of color scheme for unfitted estimators */\n",
              "  --sklearn-color-unfitted-level-0: #fff5e6;\n",
              "  --sklearn-color-unfitted-level-1: #f6e4d2;\n",
              "  --sklearn-color-unfitted-level-2: #ffe0b3;\n",
              "  --sklearn-color-unfitted-level-3: chocolate;\n",
              "  /* Definition of color scheme for fitted estimators */\n",
              "  --sklearn-color-fitted-level-0: #f0f8ff;\n",
              "  --sklearn-color-fitted-level-1: #d4ebff;\n",
              "  --sklearn-color-fitted-level-2: #b3dbfd;\n",
              "  --sklearn-color-fitted-level-3: cornflowerblue;\n",
              "\n",
              "  /* Specific color for light theme */\n",
              "  --sklearn-color-text-on-default-background: var(--sg-text-color, var(--theme-code-foreground, var(--jp-content-font-color1, black)));\n",
              "  --sklearn-color-background: var(--sg-background-color, var(--theme-background, var(--jp-layout-color0, white)));\n",
              "  --sklearn-color-border-box: var(--sg-text-color, var(--theme-code-foreground, var(--jp-content-font-color1, black)));\n",
              "  --sklearn-color-icon: #696969;\n",
              "\n",
              "  @media (prefers-color-scheme: dark) {\n",
              "    /* Redefinition of color scheme for dark theme */\n",
              "    --sklearn-color-text-on-default-background: var(--sg-text-color, var(--theme-code-foreground, var(--jp-content-font-color1, white)));\n",
              "    --sklearn-color-background: var(--sg-background-color, var(--theme-background, var(--jp-layout-color0, #111)));\n",
              "    --sklearn-color-border-box: var(--sg-text-color, var(--theme-code-foreground, var(--jp-content-font-color1, white)));\n",
              "    --sklearn-color-icon: #878787;\n",
              "  }\n",
              "}\n",
              "\n",
              "#sk-container-id-2 {\n",
              "  color: var(--sklearn-color-text);\n",
              "}\n",
              "\n",
              "#sk-container-id-2 pre {\n",
              "  padding: 0;\n",
              "}\n",
              "\n",
              "#sk-container-id-2 input.sk-hidden--visually {\n",
              "  border: 0;\n",
              "  clip: rect(1px 1px 1px 1px);\n",
              "  clip: rect(1px, 1px, 1px, 1px);\n",
              "  height: 1px;\n",
              "  margin: -1px;\n",
              "  overflow: hidden;\n",
              "  padding: 0;\n",
              "  position: absolute;\n",
              "  width: 1px;\n",
              "}\n",
              "\n",
              "#sk-container-id-2 div.sk-dashed-wrapped {\n",
              "  border: 1px dashed var(--sklearn-color-line);\n",
              "  margin: 0 0.4em 0.5em 0.4em;\n",
              "  box-sizing: border-box;\n",
              "  padding-bottom: 0.4em;\n",
              "  background-color: var(--sklearn-color-background);\n",
              "}\n",
              "\n",
              "#sk-container-id-2 div.sk-container {\n",
              "  /* jupyter's `normalize.less` sets `[hidden] { display: none; }`\n",
              "     but bootstrap.min.css set `[hidden] { display: none !important; }`\n",
              "     so we also need the `!important` here to be able to override the\n",
              "     default hidden behavior on the sphinx rendered scikit-learn.org.\n",
              "     See: https://github.com/scikit-learn/scikit-learn/issues/21755 */\n",
              "  display: inline-block !important;\n",
              "  position: relative;\n",
              "}\n",
              "\n",
              "#sk-container-id-2 div.sk-text-repr-fallback {\n",
              "  display: none;\n",
              "}\n",
              "\n",
              "div.sk-parallel-item,\n",
              "div.sk-serial,\n",
              "div.sk-item {\n",
              "  /* draw centered vertical line to link estimators */\n",
              "  background-image: linear-gradient(var(--sklearn-color-text-on-default-background), var(--sklearn-color-text-on-default-background));\n",
              "  background-size: 2px 100%;\n",
              "  background-repeat: no-repeat;\n",
              "  background-position: center center;\n",
              "}\n",
              "\n",
              "/* Parallel-specific style estimator block */\n",
              "\n",
              "#sk-container-id-2 div.sk-parallel-item::after {\n",
              "  content: \"\";\n",
              "  width: 100%;\n",
              "  border-bottom: 2px solid var(--sklearn-color-text-on-default-background);\n",
              "  flex-grow: 1;\n",
              "}\n",
              "\n",
              "#sk-container-id-2 div.sk-parallel {\n",
              "  display: flex;\n",
              "  align-items: stretch;\n",
              "  justify-content: center;\n",
              "  background-color: var(--sklearn-color-background);\n",
              "  position: relative;\n",
              "}\n",
              "\n",
              "#sk-container-id-2 div.sk-parallel-item {\n",
              "  display: flex;\n",
              "  flex-direction: column;\n",
              "}\n",
              "\n",
              "#sk-container-id-2 div.sk-parallel-item:first-child::after {\n",
              "  align-self: flex-end;\n",
              "  width: 50%;\n",
              "}\n",
              "\n",
              "#sk-container-id-2 div.sk-parallel-item:last-child::after {\n",
              "  align-self: flex-start;\n",
              "  width: 50%;\n",
              "}\n",
              "\n",
              "#sk-container-id-2 div.sk-parallel-item:only-child::after {\n",
              "  width: 0;\n",
              "}\n",
              "\n",
              "/* Serial-specific style estimator block */\n",
              "\n",
              "#sk-container-id-2 div.sk-serial {\n",
              "  display: flex;\n",
              "  flex-direction: column;\n",
              "  align-items: center;\n",
              "  background-color: var(--sklearn-color-background);\n",
              "  padding-right: 1em;\n",
              "  padding-left: 1em;\n",
              "}\n",
              "\n",
              "\n",
              "/* Toggleable style: style used for estimator/Pipeline/ColumnTransformer box that is\n",
              "clickable and can be expanded/collapsed.\n",
              "- Pipeline and ColumnTransformer use this feature and define the default style\n",
              "- Estimators will overwrite some part of the style using the `sk-estimator` class\n",
              "*/\n",
              "\n",
              "/* Pipeline and ColumnTransformer style (default) */\n",
              "\n",
              "#sk-container-id-2 div.sk-toggleable {\n",
              "  /* Default theme specific background. It is overwritten whether we have a\n",
              "  specific estimator or a Pipeline/ColumnTransformer */\n",
              "  background-color: var(--sklearn-color-background);\n",
              "}\n",
              "\n",
              "/* Toggleable label */\n",
              "#sk-container-id-2 label.sk-toggleable__label {\n",
              "  cursor: pointer;\n",
              "  display: block;\n",
              "  width: 100%;\n",
              "  margin-bottom: 0;\n",
              "  padding: 0.5em;\n",
              "  box-sizing: border-box;\n",
              "  text-align: center;\n",
              "}\n",
              "\n",
              "#sk-container-id-2 label.sk-toggleable__label-arrow:before {\n",
              "  /* Arrow on the left of the label */\n",
              "  content: \"▸\";\n",
              "  float: left;\n",
              "  margin-right: 0.25em;\n",
              "  color: var(--sklearn-color-icon);\n",
              "}\n",
              "\n",
              "#sk-container-id-2 label.sk-toggleable__label-arrow:hover:before {\n",
              "  color: var(--sklearn-color-text);\n",
              "}\n",
              "\n",
              "/* Toggleable content - dropdown */\n",
              "\n",
              "#sk-container-id-2 div.sk-toggleable__content {\n",
              "  max-height: 0;\n",
              "  max-width: 0;\n",
              "  overflow: hidden;\n",
              "  text-align: left;\n",
              "  /* unfitted */\n",
              "  background-color: var(--sklearn-color-unfitted-level-0);\n",
              "}\n",
              "\n",
              "#sk-container-id-2 div.sk-toggleable__content.fitted {\n",
              "  /* fitted */\n",
              "  background-color: var(--sklearn-color-fitted-level-0);\n",
              "}\n",
              "\n",
              "#sk-container-id-2 div.sk-toggleable__content pre {\n",
              "  margin: 0.2em;\n",
              "  border-radius: 0.25em;\n",
              "  color: var(--sklearn-color-text);\n",
              "  /* unfitted */\n",
              "  background-color: var(--sklearn-color-unfitted-level-0);\n",
              "}\n",
              "\n",
              "#sk-container-id-2 div.sk-toggleable__content.fitted pre {\n",
              "  /* unfitted */\n",
              "  background-color: var(--sklearn-color-fitted-level-0);\n",
              "}\n",
              "\n",
              "#sk-container-id-2 input.sk-toggleable__control:checked~div.sk-toggleable__content {\n",
              "  /* Expand drop-down */\n",
              "  max-height: 200px;\n",
              "  max-width: 100%;\n",
              "  overflow: auto;\n",
              "}\n",
              "\n",
              "#sk-container-id-2 input.sk-toggleable__control:checked~label.sk-toggleable__label-arrow:before {\n",
              "  content: \"▾\";\n",
              "}\n",
              "\n",
              "/* Pipeline/ColumnTransformer-specific style */\n",
              "\n",
              "#sk-container-id-2 div.sk-label input.sk-toggleable__control:checked~label.sk-toggleable__label {\n",
              "  color: var(--sklearn-color-text);\n",
              "  background-color: var(--sklearn-color-unfitted-level-2);\n",
              "}\n",
              "\n",
              "#sk-container-id-2 div.sk-label.fitted input.sk-toggleable__control:checked~label.sk-toggleable__label {\n",
              "  background-color: var(--sklearn-color-fitted-level-2);\n",
              "}\n",
              "\n",
              "/* Estimator-specific style */\n",
              "\n",
              "/* Colorize estimator box */\n",
              "#sk-container-id-2 div.sk-estimator input.sk-toggleable__control:checked~label.sk-toggleable__label {\n",
              "  /* unfitted */\n",
              "  background-color: var(--sklearn-color-unfitted-level-2);\n",
              "}\n",
              "\n",
              "#sk-container-id-2 div.sk-estimator.fitted input.sk-toggleable__control:checked~label.sk-toggleable__label {\n",
              "  /* fitted */\n",
              "  background-color: var(--sklearn-color-fitted-level-2);\n",
              "}\n",
              "\n",
              "#sk-container-id-2 div.sk-label label.sk-toggleable__label,\n",
              "#sk-container-id-2 div.sk-label label {\n",
              "  /* The background is the default theme color */\n",
              "  color: var(--sklearn-color-text-on-default-background);\n",
              "}\n",
              "\n",
              "/* On hover, darken the color of the background */\n",
              "#sk-container-id-2 div.sk-label:hover label.sk-toggleable__label {\n",
              "  color: var(--sklearn-color-text);\n",
              "  background-color: var(--sklearn-color-unfitted-level-2);\n",
              "}\n",
              "\n",
              "/* Label box, darken color on hover, fitted */\n",
              "#sk-container-id-2 div.sk-label.fitted:hover label.sk-toggleable__label.fitted {\n",
              "  color: var(--sklearn-color-text);\n",
              "  background-color: var(--sklearn-color-fitted-level-2);\n",
              "}\n",
              "\n",
              "/* Estimator label */\n",
              "\n",
              "#sk-container-id-2 div.sk-label label {\n",
              "  font-family: monospace;\n",
              "  font-weight: bold;\n",
              "  display: inline-block;\n",
              "  line-height: 1.2em;\n",
              "}\n",
              "\n",
              "#sk-container-id-2 div.sk-label-container {\n",
              "  text-align: center;\n",
              "}\n",
              "\n",
              "/* Estimator-specific */\n",
              "#sk-container-id-2 div.sk-estimator {\n",
              "  font-family: monospace;\n",
              "  border: 1px dotted var(--sklearn-color-border-box);\n",
              "  border-radius: 0.25em;\n",
              "  box-sizing: border-box;\n",
              "  margin-bottom: 0.5em;\n",
              "  /* unfitted */\n",
              "  background-color: var(--sklearn-color-unfitted-level-0);\n",
              "}\n",
              "\n",
              "#sk-container-id-2 div.sk-estimator.fitted {\n",
              "  /* fitted */\n",
              "  background-color: var(--sklearn-color-fitted-level-0);\n",
              "}\n",
              "\n",
              "/* on hover */\n",
              "#sk-container-id-2 div.sk-estimator:hover {\n",
              "  /* unfitted */\n",
              "  background-color: var(--sklearn-color-unfitted-level-2);\n",
              "}\n",
              "\n",
              "#sk-container-id-2 div.sk-estimator.fitted:hover {\n",
              "  /* fitted */\n",
              "  background-color: var(--sklearn-color-fitted-level-2);\n",
              "}\n",
              "\n",
              "/* Specification for estimator info (e.g. \"i\" and \"?\") */\n",
              "\n",
              "/* Common style for \"i\" and \"?\" */\n",
              "\n",
              ".sk-estimator-doc-link,\n",
              "a:link.sk-estimator-doc-link,\n",
              "a:visited.sk-estimator-doc-link {\n",
              "  float: right;\n",
              "  font-size: smaller;\n",
              "  line-height: 1em;\n",
              "  font-family: monospace;\n",
              "  background-color: var(--sklearn-color-background);\n",
              "  border-radius: 1em;\n",
              "  height: 1em;\n",
              "  width: 1em;\n",
              "  text-decoration: none !important;\n",
              "  margin-left: 1ex;\n",
              "  /* unfitted */\n",
              "  border: var(--sklearn-color-unfitted-level-1) 1pt solid;\n",
              "  color: var(--sklearn-color-unfitted-level-1);\n",
              "}\n",
              "\n",
              ".sk-estimator-doc-link.fitted,\n",
              "a:link.sk-estimator-doc-link.fitted,\n",
              "a:visited.sk-estimator-doc-link.fitted {\n",
              "  /* fitted */\n",
              "  border: var(--sklearn-color-fitted-level-1) 1pt solid;\n",
              "  color: var(--sklearn-color-fitted-level-1);\n",
              "}\n",
              "\n",
              "/* On hover */\n",
              "div.sk-estimator:hover .sk-estimator-doc-link:hover,\n",
              ".sk-estimator-doc-link:hover,\n",
              "div.sk-label-container:hover .sk-estimator-doc-link:hover,\n",
              ".sk-estimator-doc-link:hover {\n",
              "  /* unfitted */\n",
              "  background-color: var(--sklearn-color-unfitted-level-3);\n",
              "  color: var(--sklearn-color-background);\n",
              "  text-decoration: none;\n",
              "}\n",
              "\n",
              "div.sk-estimator.fitted:hover .sk-estimator-doc-link.fitted:hover,\n",
              ".sk-estimator-doc-link.fitted:hover,\n",
              "div.sk-label-container:hover .sk-estimator-doc-link.fitted:hover,\n",
              ".sk-estimator-doc-link.fitted:hover {\n",
              "  /* fitted */\n",
              "  background-color: var(--sklearn-color-fitted-level-3);\n",
              "  color: var(--sklearn-color-background);\n",
              "  text-decoration: none;\n",
              "}\n",
              "\n",
              "/* Span, style for the box shown on hovering the info icon */\n",
              ".sk-estimator-doc-link span {\n",
              "  display: none;\n",
              "  z-index: 9999;\n",
              "  position: relative;\n",
              "  font-weight: normal;\n",
              "  right: .2ex;\n",
              "  padding: .5ex;\n",
              "  margin: .5ex;\n",
              "  width: min-content;\n",
              "  min-width: 20ex;\n",
              "  max-width: 50ex;\n",
              "  color: var(--sklearn-color-text);\n",
              "  box-shadow: 2pt 2pt 4pt #999;\n",
              "  /* unfitted */\n",
              "  background: var(--sklearn-color-unfitted-level-0);\n",
              "  border: .5pt solid var(--sklearn-color-unfitted-level-3);\n",
              "}\n",
              "\n",
              ".sk-estimator-doc-link.fitted span {\n",
              "  /* fitted */\n",
              "  background: var(--sklearn-color-fitted-level-0);\n",
              "  border: var(--sklearn-color-fitted-level-3);\n",
              "}\n",
              "\n",
              ".sk-estimator-doc-link:hover span {\n",
              "  display: block;\n",
              "}\n",
              "\n",
              "/* \"?\"-specific style due to the `<a>` HTML tag */\n",
              "\n",
              "#sk-container-id-2 a.estimator_doc_link {\n",
              "  float: right;\n",
              "  font-size: 1rem;\n",
              "  line-height: 1em;\n",
              "  font-family: monospace;\n",
              "  background-color: var(--sklearn-color-background);\n",
              "  border-radius: 1rem;\n",
              "  height: 1rem;\n",
              "  width: 1rem;\n",
              "  text-decoration: none;\n",
              "  /* unfitted */\n",
              "  color: var(--sklearn-color-unfitted-level-1);\n",
              "  border: var(--sklearn-color-unfitted-level-1) 1pt solid;\n",
              "}\n",
              "\n",
              "#sk-container-id-2 a.estimator_doc_link.fitted {\n",
              "  /* fitted */\n",
              "  border: var(--sklearn-color-fitted-level-1) 1pt solid;\n",
              "  color: var(--sklearn-color-fitted-level-1);\n",
              "}\n",
              "\n",
              "/* On hover */\n",
              "#sk-container-id-2 a.estimator_doc_link:hover {\n",
              "  /* unfitted */\n",
              "  background-color: var(--sklearn-color-unfitted-level-3);\n",
              "  color: var(--sklearn-color-background);\n",
              "  text-decoration: none;\n",
              "}\n",
              "\n",
              "#sk-container-id-2 a.estimator_doc_link.fitted:hover {\n",
              "  /* fitted */\n",
              "  background-color: var(--sklearn-color-fitted-level-3);\n",
              "}\n",
              "</style><div id=\"sk-container-id-2\" class=\"sk-top-container\"><div class=\"sk-text-repr-fallback\"><pre>LinearDiscriminantAnalysis()</pre><b>In a Jupyter environment, please rerun this cell to show the HTML representation or trust the notebook. <br />On GitHub, the HTML representation is unable to render, please try loading this page with nbviewer.org.</b></div><div class=\"sk-container\" hidden><div class=\"sk-item\"><div class=\"sk-estimator fitted sk-toggleable\"><input class=\"sk-toggleable__control sk-hidden--visually\" id=\"sk-estimator-id-2\" type=\"checkbox\" checked><label for=\"sk-estimator-id-2\" class=\"sk-toggleable__label fitted sk-toggleable__label-arrow fitted\">&nbsp;&nbsp;LinearDiscriminantAnalysis<a class=\"sk-estimator-doc-link fitted\" rel=\"noreferrer\" target=\"_blank\" href=\"https://scikit-learn.org/1.5/modules/generated/sklearn.discriminant_analysis.LinearDiscriminantAnalysis.html\">?<span>Documentation for LinearDiscriminantAnalysis</span></a><span class=\"sk-estimator-doc-link fitted\">i<span>Fitted</span></span></label><div class=\"sk-toggleable__content fitted\"><pre>LinearDiscriminantAnalysis()</pre></div> </div></div></div></div>"
            ]
          },
          "metadata": {},
          "execution_count": 115
        }
      ]
    },
    {
      "cell_type": "code",
      "source": [
        "# После обучения модели используем тестовую выборку для прогнозирования.\n",
        "y_pred = lda.predict(X_test)"
      ],
      "metadata": {
        "id": "IpZgQfAdRqux"
      },
      "execution_count": 116,
      "outputs": []
    },
    {
      "cell_type": "code",
      "source": [
        "# Оценим качество модели на тестовой выборке с помощью метрик, таких как точность (accuracy), матрица ошибок (confusion matrix), и отчет классификации (classification report).\n",
        "# Оценка точности модели\n",
        "accuracy = accuracy_score(y_test, y_pred)\n",
        "print(f\"Точность модели: {accuracy:.2f}\")\n",
        "\n",
        "# Матрица ошибок\n",
        "conf_matrix = confusion_matrix(y_test, y_pred)\n",
        "print(\"Матрица ошибок:\")\n",
        "print(conf_matrix)\n",
        "\n",
        "# Отчет классификации\n",
        "class_report = classification_report(y_test, y_pred)\n",
        "print(\"Отчет классификации:\")\n",
        "print(class_report)"
      ],
      "metadata": {
        "colab": {
          "base_uri": "https://localhost:8080/"
        },
        "id": "emTCHaoIRxOL",
        "outputId": "c41e994d-d028-44e6-ed4f-7b3aebfa2d1b"
      },
      "execution_count": 117,
      "outputs": [
        {
          "output_type": "stream",
          "name": "stdout",
          "text": [
            "Точность модели: 0.75\n",
            "Матрица ошибок:\n",
            "[[2094  200]\n",
            " [ 540  166]]\n",
            "Отчет классификации:\n",
            "              precision    recall  f1-score   support\n",
            "\n",
            "           0       0.79      0.91      0.85      2294\n",
            "           1       0.45      0.24      0.31       706\n",
            "\n",
            "    accuracy                           0.75      3000\n",
            "   macro avg       0.62      0.57      0.58      3000\n",
            "weighted avg       0.71      0.75      0.72      3000\n",
            "\n"
          ]
        }
      ]
    }
  ]
}
